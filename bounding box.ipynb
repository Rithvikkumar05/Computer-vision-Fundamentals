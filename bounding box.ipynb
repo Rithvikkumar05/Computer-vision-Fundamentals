{
 "cells": [
  {
   "cell_type": "code",
   "execution_count": 19,
   "id": "0f4e9ca3-bf6a-4b33-b6d8-c0eeb8d9efca",
   "metadata": {},
   "outputs": [],
   "source": [
    "import numpy as np\n",
    "import argparse\n",
    "import cv2"
   ]
  },
  {
   "cell_type": "code",
   "execution_count": null,
   "id": "cb41aaae-c58e-43ac-9276-ef73986e2e24",
   "metadata": {},
   "outputs": [
    {
     "name": "stderr",
     "output_type": "stream",
     "text": [
      "C:\\Users\\Dharaneesh\\AppData\\Local\\Temp\\ipykernel_5588\\1266348346.py:44: DeprecationWarning: `np.int0` is a deprecated alias for `np.intp`.  (Deprecated NumPy 1.24)\n",
      "  pts = np.int0(cv2.boxPoints(r))  # Update for OpenCV 3+\n"
     ]
    }
   ],
   "source": [
    "import cv2\n",
    "import argparse\n",
    "import numpy as np\n",
    "\n",
    "# Global variables\n",
    "frame = None\n",
    "roiPts = []\n",
    "inputMode = False\n",
    "\n",
    "# Mouse callback function to select the ROI points\n",
    "def selectROI(event, x, y, flags, param):\n",
    "    global frame, roiPts, inputMode\n",
    "    # If in ROI selection mode, capture the mouse clicks and draw circles\n",
    "    if inputMode and event == cv2.EVENT_LBUTTONDOWN and len(roiPts) < 4:\n",
    "        roiPts.append((x, y))\n",
    "        cv2.circle(frame, (x, y), 4, (0, 255, 0), 2)\n",
    "        cv2.imshow(\"frame\", frame)\n",
    "\n",
    "def main():\n",
    "    global frame, roiPts, inputMode\n",
    "\n",
    "    # Start capturing video from the main camera (index 0)\n",
    "    camera = cv2.VideoCapture(0)\n",
    "\n",
    "    # Create a window and set the mouse callback to select the ROI\n",
    "    cv2.namedWindow(\"frame\")\n",
    "    cv2.setMouseCallback(\"frame\", selectROI)\n",
    "\n",
    "    # CamShift termination criteria\n",
    "    termination = (cv2.TERM_CRITERIA_EPS | cv2.TERM_CRITERIA_COUNT, 10, 1)\n",
    "    roiBox = None\n",
    "    roiHist = None\n",
    "\n",
    "    while True:\n",
    "        (grabbed, frame) = camera.read()\n",
    "        if not grabbed:\n",
    "            break\n",
    "\n",
    "        # If the ROI is selected, track it using CamShift\n",
    "        if roiBox is not None:\n",
    "            hsv = cv2.cvtColor(frame, cv2.COLOR_BGR2HSV)\n",
    "            backProj = cv2.calcBackProject([hsv], [0], roiHist, [0, 180], 1)\n",
    "            (r, roiBox) = cv2.CamShift(backProj, roiBox, termination)\n",
    "            pts = np.int0(cv2.boxPoints(r))  # Update for OpenCV 3+\n",
    "            cv2.polylines(frame, [pts], True, (0, 255, 0), 2)\n",
    "\n",
    "        # Display the frame\n",
    "        cv2.imshow(\"frame\", frame)\n",
    "\n",
    "        # Wait for the user to press a key\n",
    "        key = cv2.waitKey(1) & 0xFF\n",
    "\n",
    "        # Press 'i' to select the ROI (enter input mode)\n",
    "        if key == ord('i') and len(roiPts) < 4:\n",
    "            inputMode = True\n",
    "            roiPts = []\n",
    "            while len(roiPts) < 4:\n",
    "                cv2.imshow(\"frame\", frame)\n",
    "                cv2.waitKey(1)\n",
    "            roiPts = np.array(roiPts)\n",
    "            s = roiPts.sum(axis=1)\n",
    "            tl = roiPts[np.argmin(s)]\n",
    "            br = roiPts[np.argmax(s)]\n",
    "            roi = frame[tl[1]:br[1], tl[0]:br[0]]\n",
    "            roi = cv2.cvtColor(roi, cv2.COLOR_BGR2HSV)\n",
    "            roiHist = cv2.calcHist([roi], [0], None, [16], [0, 180])\n",
    "            roiHist = cv2.normalize(roiHist, roiHist, 0, 255, cv2.NORM_MINMAX)\n",
    "            roiBox = (tl[0], tl[1], br[0] - tl[0], br[1] - tl[1])\n",
    "\n",
    "        # Exit the loop on pressing 'q'\n",
    "        elif key == ord('q'):\n",
    "            break\n",
    "\n",
    "    # Clean up the camera and close windows\n",
    "    camera.release()\n",
    "    cv2.destroyAllWindows()\n",
    "\n",
    "if __name__ == \"__main__\":\n",
    "    main()\n"
   ]
  },
  {
   "cell_type": "code",
   "execution_count": null,
   "id": "74c06487-a159-47dd-a2d7-16a71e956d4b",
   "metadata": {},
   "outputs": [],
   "source": []
  },
  {
   "cell_type": "code",
   "execution_count": null,
   "id": "a2eee71b-1f14-4c30-a7bb-7b5bfff71055",
   "metadata": {},
   "outputs": [],
   "source": []
  },
  {
   "cell_type": "code",
   "execution_count": null,
   "id": "a89acb60-6adc-4880-983d-7ac8023b6c3a",
   "metadata": {},
   "outputs": [],
   "source": []
  }
 ],
 "metadata": {
  "kernelspec": {
   "display_name": "Python 3 (ipykernel)",
   "language": "python",
   "name": "python3"
  },
  "language_info": {
   "codemirror_mode": {
    "name": "ipython",
    "version": 3
   },
   "file_extension": ".py",
   "mimetype": "text/x-python",
   "name": "python",
   "nbconvert_exporter": "python",
   "pygments_lexer": "ipython3",
   "version": "3.11.7"
  }
 },
 "nbformat": 4,
 "nbformat_minor": 5
}
